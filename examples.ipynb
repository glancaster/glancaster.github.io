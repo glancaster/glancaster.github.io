{
 "cells": [
  {
   "cell_type": "markdown",
   "metadata": {},
   "source": [
    "string library"
   ]
  },
  {
   "cell_type": "code",
   "execution_count": 1,
   "metadata": {},
   "outputs": [
    {
     "name": "stdout",
     "output_type": "stream",
     "text": [
      "It is long and pointy\n",
      "That dog is thick\n"
     ]
    }
   ],
   "source": [
    "from string import Template\n",
    "message = Template('It is $desc1 and $desc2')\n",
    "print(message.substitute(desc1=\"long\", desc2 = \"pointy\"))\n",
    "tags = {'what':'thick'}\n",
    "print(Template(\"That dog is $what\").substitute(tags))"
   ]
  },
  {
   "cell_type": "markdown",
   "metadata": {},
   "source": [
    "re library"
   ]
  },
  {
   "cell_type": "code",
   "execution_count": 18,
   "metadata": {},
   "outputs": [
    {
     "name": "stdout",
     "output_type": "stream",
     "text": [
      "Found: Python\n",
      "Found: ['Python', 'Python']\n"
     ]
    }
   ],
   "source": [
    "import re\n",
    "\n",
    "# Check if the string contains \"Python\"\n",
    "text = \"I love programming in Python. Python can do so many things.\"\n",
    "match = re.search(r\"Python\", text)\n",
    "if match:\n",
    "    print(\"Found:\", match.group()) \n",
    "\n",
    "matches = re.findall(r\"Python\", text)\n",
    "print(\"Found:\", matches)"
   ]
  },
  {
   "cell_type": "code",
   "execution_count": 20,
   "metadata": {},
   "outputs": [
    {
     "name": "stdout",
     "output_type": "stream",
     "text": [
      "['Python', 'is', 'great']\n",
      "C is great\n"
     ]
    }
   ],
   "source": [
    "import re\n",
    "\n",
    "# Split a string by any whitespace\n",
    "text = \"Python is great\"\n",
    "split_text = re.split(r\"\\s+\", text)\n",
    "print(split_text)\n",
    "\n",
    "new_text = re.sub(r\"Python\", \"C\", text)\n",
    "print(new_text)"
   ]
  },
  {
   "cell_type": "code",
   "execution_count": 21,
   "metadata": {},
   "outputs": [
    {
     "name": "stdout",
     "output_type": "stream",
     "text": [
      "['support@example.com', 'sales@example.com']\n"
     ]
    }
   ],
   "source": [
    "import re\n",
    "\n",
    "# Extract email addresses from text\n",
    "text = \"Please contact us at support@example.com or sales@example.com.\"\n",
    "emails = re.findall(r\"[a-zA-Z0-9._%+-]+@[a-zA-Z0-9.-]+\\.[a-zA-Z]{2,}\", text)\n",
    "print(emails)  "
   ]
  },
  {
   "cell_type": "code",
   "execution_count": null,
   "metadata": {},
   "outputs": [],
   "source": [
    "import re\n",
    "\n",
    "# Validate phone number format (e.g., (123) 456-7890)\n",
    "phone_number = \"(123) 456-7890\"\n",
    "if re.match(r\"\\(\\d{3}\\) \\d{3}-\\d{4}\", phone_number):\n",
    "    print(\"Valid phone number format\")  # Output: Valid phone number format\n",
    "else:\n",
    "    print(\"Invalid phone number format\")"
   ]
  },
  {
   "cell_type": "markdown",
   "metadata": {},
   "source": [
    "difflib library"
   ]
  },
  {
   "cell_type": "code",
   "execution_count": 25,
   "metadata": {},
   "outputs": [
    {
     "name": "stdout",
     "output_type": "stream",
     "text": [
      "Similarity: 0.67\n"
     ]
    }
   ],
   "source": [
    "import difflib\n",
    "\n",
    "str1 = \"apple\"\n",
    "str2 = \"applesauce\"\n",
    "\n",
    "# Get a ratio of similarity\n",
    "similarity = difflib.SequenceMatcher(None, str1, str2).ratio()\n",
    "print(f\"Similarity: {similarity:.2f}\")\n"
   ]
  },
  {
   "cell_type": "code",
   "execution_count": 28,
   "metadata": {},
   "outputs": [
    {
     "name": "stdout",
     "output_type": "stream",
     "text": [
      "  The\n",
      "  quick\n",
      "  brown\n",
      "- fox\n",
      "+ dog\n"
     ]
    }
   ],
   "source": [
    "import difflib\n",
    "\n",
    "str1 = \"The quick brown fox\"\n",
    "str2 = \"The quick brown dog\"\n",
    "\n",
    "d = difflib.Differ()\n",
    "diff = list(d.compare(str1.split(), str2.split()))\n",
    "\n",
    "print(\"\\n\".join(diff))\n",
    "\n",
    "\n"
   ]
  },
  {
   "cell_type": "code",
   "execution_count": 29,
   "metadata": {},
   "outputs": [
    {
     "name": "stdout",
     "output_type": "stream",
     "text": [
      "['apple', 'ape']\n"
     ]
    }
   ],
   "source": [
    "import difflib\n",
    "\n",
    "word = \"appel\"\n",
    "possibilities = [\"ape\", \"apple\", \"peach\", \"puppy\"]\n",
    "\n",
    "matches = difflib.get_close_matches(word, possibilities)\n",
    "print(matches)\n"
   ]
  },
  {
   "cell_type": "markdown",
   "metadata": {},
   "source": [
    "textwrap library"
   ]
  },
  {
   "cell_type": "code",
   "execution_count": 2,
   "metadata": {},
   "outputs": [
    {
     "name": "stdout",
     "output_type": "stream",
     "text": [
      "The quick brown fox\n",
      "jumps over the lazy\n",
      "dog.\n"
     ]
    }
   ],
   "source": [
    "import textwrap\n",
    "\n",
    "sample_text = \"The quick brown fox jumps over the lazy dog.\"\n",
    "\n",
    "wrapped_text = textwrap.fill(sample_text, width=20)\n",
    "print(wrapped_text)\n"
   ]
  },
  {
   "cell_type": "code",
   "execution_count": 3,
   "metadata": {},
   "outputs": [
    {
     "name": "stdout",
     "output_type": "stream",
     "text": [
      "  The quick brown\n",
      "    fox jumps over\n",
      "    the lazy dog.\n"
     ]
    }
   ],
   "source": [
    "import textwrap\n",
    "\n",
    "sample_text = \"The quick brown fox jumps over the lazy dog.\"\n",
    "\n",
    "wrapped_text = textwrap.fill(sample_text, width=20, initial_indent='  ', subsequent_indent='    ')\n",
    "print(wrapped_text)\n"
   ]
  },
  {
   "cell_type": "code",
   "execution_count": 4,
   "metadata": {},
   "outputs": [
    {
     "name": "stdout",
     "output_type": "stream",
     "text": [
      "The quick brown fox...\n"
     ]
    }
   ],
   "source": [
    "import textwrap\n",
    "\n",
    "sample_text = \"The quick brown fox jumps over the lazy dog.\"\n",
    "\n",
    "shortened_text = textwrap.shorten(sample_text, width=25, placeholder=\"...\")\n",
    "print(shortened_text)\n"
   ]
  },
  {
   "cell_type": "code",
   "execution_count": 6,
   "metadata": {},
   "outputs": [
    {
     "name": "stdout",
     "output_type": "stream",
     "text": [
      "The quick brown fox\n",
      "jumps over the lazy dog.\n"
     ]
    }
   ],
   "source": [
    "import textwrap\n",
    "\n",
    "sample_text = \"\"\"\n",
    "                             The quick brown fox\n",
    "    jumps over the lazy dog.\n",
    "\"\"\"\n",
    "\n",
    "dedented_text = textwrap.dedent(sample_text).strip()\n",
    "print(dedented_text)\n"
   ]
  },
  {
   "cell_type": "markdown",
   "metadata": {},
   "source": [
    "unicodedata library"
   ]
  },
  {
   "cell_type": "code",
   "execution_count": 9,
   "metadata": {},
   "outputs": [
    {
     "name": "stdout",
     "output_type": "stream",
     "text": [
      "LATIN SMALL LETTER E WITH ACUTE\n",
      "é\n"
     ]
    }
   ],
   "source": [
    "import unicodedata\n",
    "\n",
    "char = 'é'\n",
    "name = unicodedata.name(char)\n",
    "print(name)  # Output: LATIN SMALL LETTER E WITH ACUTE\n",
    "name = 'LATIN SMALL LETTER E WITH ACUTE'\n",
    "char = unicodedata.lookup(name)\n",
    "print(char)  # Output: é"
   ]
  },
  {
   "cell_type": "code",
   "execution_count": 10,
   "metadata": {},
   "outputs": [
    {
     "name": "stdout",
     "output_type": "stream",
     "text": [
      "False\n",
      "True\n"
     ]
    }
   ],
   "source": [
    "import unicodedata\n",
    "\n",
    "str1 = 'é'  # Composed form\n",
    "str2 = 'e\\u0301'  # Decomposed form (e + combining acute accent)\n",
    "\n",
    "print(str1 == str2)  # Output: False\n",
    "\n",
    "normalized_str1 = unicodedata.normalize('NFC', str1)\n",
    "normalized_str2 = unicodedata.normalize('NFC', str2)\n",
    "\n",
    "print(normalized_str1 == normalized_str2)  # Output: True\n"
   ]
  },
  {
   "cell_type": "code",
   "execution_count": 11,
   "metadata": {},
   "outputs": [
    {
     "name": "stdout",
     "output_type": "stream",
     "text": [
      "Lu\n",
      "Nd\n"
     ]
    }
   ],
   "source": [
    "import unicodedata\n",
    "\n",
    "char = 'A'\n",
    "category = unicodedata.category(char)\n",
    "print(category)  # Output: Lu (Letter, uppercase)\n",
    "\n",
    "char = '1'\n",
    "category = unicodedata.category(char)\n",
    "print(category)  # Output: Nd (Number, decimal digit)\n"
   ]
  },
  {
   "cell_type": "markdown",
   "metadata": {},
   "source": [
    "stringprep library"
   ]
  },
  {
   "cell_type": "code",
   "execution_count": 12,
   "metadata": {},
   "outputs": [
    {
     "name": "stdout",
     "output_type": "stream",
     "text": [
      "user name\n"
     ]
    }
   ],
   "source": [
    "import stringprep\n",
    "\n",
    "# Define a simple function to prepare a username\n",
    "def prepare_username(username):\n",
    "    # Map non-ASCII spaces to ASCII space\n",
    "    mapped = ''.join(stringprep.in_table_b1(c) and ' ' or c for c in username)\n",
    "    \n",
    "    # Normalize using NFC (Normalization Form C)\n",
    "    normalized = stringprep.unicodedata.normalize('NFC', mapped)\n",
    "    \n",
    "    # Remove characters prohibited by stringprep tables\n",
    "    prepared = ''.join(c for c in normalized if not stringprep.in_table_c12(c))\n",
    "    \n",
    "    return prepared\n",
    "\n",
    "# Example usage\n",
    "username = \"user\\u200Bname\"  # Username with a zero-width space\n",
    "prepared_username = prepare_username(username)\n",
    "print(prepared_username)  # Output: \"username\"\n"
   ]
  },
  {
   "cell_type": "markdown",
   "metadata": {},
   "source": [
    "struct library"
   ]
  },
  {
   "cell_type": "code",
   "execution_count": 20,
   "metadata": {},
   "outputs": [
    {
     "name": "stdout",
     "output_type": "stream",
     "text": [
      "b'\\x01\\x00\\x00\\x0033\\x13@a'\n",
      "(1, 2.299999952316284, b'a')\n",
      "(1, 2.299999952316284, b'a')\n"
     ]
    }
   ],
   "source": [
    "import struct\n",
    "\n",
    "# Define a format string for packing: integer (i), float (f), character (c)\n",
    "format_string = 'ifc'\n",
    "# Values to pack\n",
    "values = (1, 2.3, b'a')\n",
    "\n",
    "# Pack the values into a bytes object\n",
    "packed_data = struct.pack(format_string, *values)\n",
    "print(packed_data)  # Output: b'\\x01\\x00\\x00\\x00\\x9a\\x99\\x19@a'\n",
    "# Unpack the data using the same format string\n",
    "unpacked_data = struct.unpack(format_string, packed_data)\n",
    "print(unpacked_data)  # Output: (1, 2.299999952316284, b'a')\n",
    "\n",
    "with open('examples/data.bin', 'wb') as file:\n",
    "    file.write(packed_data)\n",
    "\n",
    "with open('examples/data.bin', 'rb') as file:\n",
    "    data_from_file = file.read()\n",
    "\n",
    "unpacked_data_from_file = struct.unpack(format_string, data_from_file)\n",
    "print(unpacked_data_from_file)  # Output: (1, 2.299999952316284, b'a')\n"
   ]
  },
  {
   "cell_type": "code",
   "execution_count": 21,
   "metadata": {},
   "outputs": [
    {
     "name": "stdout",
     "output_type": "stream",
     "text": [
      "b'\\x00\\x04\\x00\\x00'\n",
      "b'\\x00\\x00\\x04\\x00'\n",
      "(1024,)\n",
      "(1024,)\n"
     ]
    }
   ],
   "source": [
    "# Using little-endian (<) and big-endian (>)\n",
    "format_string_little_endian = '<I'\n",
    "format_string_big_endian = '>I'\n",
    "value = 1024\n",
    "\n",
    "packed_data_little_endian = struct.pack(format_string_little_endian, value)\n",
    "packed_data_big_endian = struct.pack(format_string_big_endian, value)\n",
    "\n",
    "print(packed_data_little_endian)  # Output: b'\\x00\\x04\\x00\\x00'\n",
    "print(packed_data_big_endian)     # Output: b'\\x00\\x00\\x04\\x00'\n",
    "\n",
    "unpacked_data_little_endian = struct.unpack(format_string_little_endian, packed_data_little_endian)\n",
    "unpacked_data_big_endian = struct.unpack(format_string_big_endian, packed_data_big_endian)\n",
    "\n",
    "print(unpacked_data_little_endian)  # Output: (1024,)\n",
    "print(unpacked_data_big_endian)     # Output: (1024,)\n"
   ]
  },
  {
   "cell_type": "markdown",
   "metadata": {},
   "source": [
    "codecs"
   ]
  },
  {
   "cell_type": "code",
   "execution_count": 22,
   "metadata": {},
   "outputs": [
    {
     "name": "stdout",
     "output_type": "stream",
     "text": [
      "Hello, world! こんにちは世界\n"
     ]
    }
   ],
   "source": [
    "import codecs\n",
    "\n",
    "# Writing to a file with a specific encoding\n",
    "with codecs.open('examples/example.txt', 'w', encoding='utf-8') as f:\n",
    "    f.write('Hello, world! こんにちは世界')\n",
    "\n",
    "# Reading from a file with a specific encoding\n",
    "with codecs.open('examples/example.txt', 'r', encoding='utf-8') as f:\n",
    "    content = f.read()\n",
    "    print(content)\n"
   ]
  },
  {
   "cell_type": "code",
   "execution_count": 23,
   "metadata": {},
   "outputs": [
    {
     "name": "stdout",
     "output_type": "stream",
     "text": [
      "b'Hello, world! \\xe3\\x81\\x93\\xe3\\x82\\x93\\xe3\\x81\\xab\\xe3\\x81\\xa1\\xe3\\x81\\xaf\\xe4\\xb8\\x96\\xe7\\x95\\x8c'\n",
      "Hello, world! こんにちは世界\n"
     ]
    }
   ],
   "source": [
    "import codecs\n",
    "\n",
    "# Original string\n",
    "original_string = 'Hello, world! こんにちは世界'\n",
    "\n",
    "# Encoding the string to bytes using UTF-8\n",
    "encoded_bytes = codecs.encode(original_string, 'utf-8')\n",
    "print(encoded_bytes)  # Output will be in bytes\n",
    "\n",
    "# Decoding the bytes back to string using UTF-8\n",
    "decoded_string = codecs.decode(encoded_bytes, 'utf-8')\n",
    "print(decoded_string)  # Output will be the original string\n"
   ]
  },
  {
   "cell_type": "markdown",
   "metadata": {},
   "source": [
    "datetime"
   ]
  },
  {
   "cell_type": "code",
   "execution_count": 25,
   "metadata": {},
   "outputs": [
    {
     "name": "stdout",
     "output_type": "stream",
     "text": [
      "Current date and time: 2024-06-23 22:47:09.299264\n",
      "Current date: 2024-06-23\n",
      "Current time: 22:47:09.299264\n",
      "Specific date and time: 2024-06-23 15:30:00\n"
     ]
    }
   ],
   "source": [
    "from datetime import datetime\n",
    "\n",
    "# Current date and time\n",
    "now = datetime.now()\n",
    "print(\"Current date and time:\", now)\n",
    "\n",
    "# Current date\n",
    "today = datetime.today().date()\n",
    "print(\"Current date:\", today)\n",
    "\n",
    "# Current time\n",
    "current_time = now.time()\n",
    "print(\"Current time:\", current_time)\n",
    "# Specific date and time\n",
    "specific_datetime = datetime(2024, 6, 23, 15, 30, 0)\n",
    "print(\"Specific date and time:\", specific_datetime)"
   ]
  },
  {
   "cell_type": "code",
   "execution_count": 26,
   "metadata": {},
   "outputs": [
    {
     "name": "stdout",
     "output_type": "stream",
     "text": [
      "Formatted date: 2024-06-23\n",
      "Formatted time: 22:47:21\n",
      "Formatted date and time: 2024-06-23 22:47:21\n"
     ]
    }
   ],
   "source": [
    "from datetime import datetime\n",
    "\n",
    "now = datetime.now()\n",
    "\n",
    "# Different formats\n",
    "formatted_date = now.strftime(\"%Y-%m-%d\")\n",
    "formatted_time = now.strftime(\"%H:%M:%S\")\n",
    "formatted_datetime = now.strftime(\"%Y-%m-%d %H:%M:%S\")\n",
    "\n",
    "print(\"Formatted date:\", formatted_date)\n",
    "print(\"Formatted time:\", formatted_time)\n",
    "print(\"Formatted date and time:\", formatted_datetime)\n"
   ]
  },
  {
   "cell_type": "code",
   "execution_count": 27,
   "metadata": {},
   "outputs": [
    {
     "name": "stdout",
     "output_type": "stream",
     "text": [
      "Parsed date: 2024-06-23\n",
      "Parsed datetime: 2024-06-23 15:30:00\n"
     ]
    }
   ],
   "source": [
    "from datetime import datetime\n",
    "\n",
    "# Parsing a date string\n",
    "date_str = \"2024-06-23\"\n",
    "parsed_date = datetime.strptime(date_str, \"%Y-%m-%d\").date()\n",
    "print(\"Parsed date:\", parsed_date)\n",
    "\n",
    "# Parsing a datetime string\n",
    "datetime_str = \"2024-06-23 15:30:00\"\n",
    "parsed_datetime = datetime.strptime(datetime_str, \"%Y-%m-%d %H:%M:%S\")\n",
    "print(\"Parsed datetime:\", parsed_datetime)\n"
   ]
  },
  {
   "cell_type": "code",
   "execution_count": 28,
   "metadata": {},
   "outputs": [
    {
     "name": "stdout",
     "output_type": "stream",
     "text": [
      "Date 7 days from now: 2024-06-30 22:47:57.818050\n",
      "Date 7 days ago: 2024-06-16 22:47:57.818050\n",
      "Time 2 hours from now: 2024-06-24 00:47:57.818050\n"
     ]
    }
   ],
   "source": [
    "from datetime import datetime, timedelta\n",
    "\n",
    "now = datetime.now()\n",
    "\n",
    "# Adding 7 days to the current date\n",
    "future_date = now + timedelta(days=7)\n",
    "print(\"Date 7 days from now:\", future_date)\n",
    "\n",
    "# Subtracting 7 days from the current date\n",
    "past_date = now - timedelta(days=7)\n",
    "print(\"Date 7 days ago:\", past_date)\n",
    "\n",
    "# Adding 2 hours to the current time\n",
    "future_time = now + timedelta(hours=2)\n",
    "print(\"Time 2 hours from now:\", future_time)\n"
   ]
  },
  {
   "cell_type": "code",
   "execution_count": 29,
   "metadata": {},
   "outputs": [
    {
     "name": "stdout",
     "output_type": "stream",
     "text": [
      "Difference between datetimes: 1 day, 3:30:00\n",
      "Difference in days: 1\n",
      "Difference in seconds: 99000.0\n"
     ]
    }
   ],
   "source": [
    "from datetime import datetime\n",
    "\n",
    "datetime1 = datetime(2024, 6, 23, 12, 0, 0)\n",
    "datetime2 = datetime(2024, 6, 24, 15, 30, 0)\n",
    "\n",
    "# Difference between two datetimes\n",
    "difference = datetime2 - datetime1\n",
    "print(\"Difference between datetimes:\", difference)\n",
    "\n",
    "# Difference in days\n",
    "difference_in_days = difference.days\n",
    "print(\"Difference in days:\", difference_in_days)\n",
    "\n",
    "# Difference in seconds\n",
    "difference_in_seconds = difference.total_seconds()\n",
    "print(\"Difference in seconds:\", difference_in_seconds)\n"
   ]
  },
  {
   "cell_type": "markdown",
   "metadata": {},
   "source": [
    "zoneinfo - support later"
   ]
  },
  {
   "cell_type": "markdown",
   "metadata": {},
   "source": [
    "calendar"
   ]
  },
  {
   "cell_type": "code",
   "execution_count": 37,
   "metadata": {},
   "outputs": [
    {
     "name": "stdout",
     "output_type": "stream",
     "text": [
      "     June 2024\n",
      "Mo Tu We Th Fr Sa Su\n",
      "                1  2\n",
      " 3  4  5  6  7  8  9\n",
      "10 11 12 13 14 15 16\n",
      "17 18 19 20 21 22 23\n",
      "24 25 26 27 28 29 30\n",
      "\n",
      "                                  2024\n",
      "\n",
      "      January                   February                   March\n",
      "Mo Tu We Th Fr Sa Su      Mo Tu We Th Fr Sa Su      Mo Tu We Th Fr Sa Su\n",
      " 1  2  3  4  5  6  7                1  2  3  4                   1  2  3\n",
      " 8  9 10 11 12 13 14       5  6  7  8  9 10 11       4  5  6  7  8  9 10\n",
      "15 16 17 18 19 20 21      12 13 14 15 16 17 18      11 12 13 14 15 16 17\n",
      "22 23 24 25 26 27 28      19 20 21 22 23 24 25      18 19 20 21 22 23 24\n",
      "29 30 31                  26 27 28 29               25 26 27 28 29 30 31\n",
      "\n",
      "       April                      May                       June\n",
      "Mo Tu We Th Fr Sa Su      Mo Tu We Th Fr Sa Su      Mo Tu We Th Fr Sa Su\n",
      " 1  2  3  4  5  6  7             1  2  3  4  5                      1  2\n",
      " 8  9 10 11 12 13 14       6  7  8  9 10 11 12       3  4  5  6  7  8  9\n",
      "15 16 17 18 19 20 21      13 14 15 16 17 18 19      10 11 12 13 14 15 16\n",
      "22 23 24 25 26 27 28      20 21 22 23 24 25 26      17 18 19 20 21 22 23\n",
      "29 30                     27 28 29 30 31            24 25 26 27 28 29 30\n",
      "\n",
      "        July                     August                  September\n",
      "Mo Tu We Th Fr Sa Su      Mo Tu We Th Fr Sa Su      Mo Tu We Th Fr Sa Su\n",
      " 1  2  3  4  5  6  7                1  2  3  4                         1\n",
      " 8  9 10 11 12 13 14       5  6  7  8  9 10 11       2  3  4  5  6  7  8\n",
      "15 16 17 18 19 20 21      12 13 14 15 16 17 18       9 10 11 12 13 14 15\n",
      "22 23 24 25 26 27 28      19 20 21 22 23 24 25      16 17 18 19 20 21 22\n",
      "29 30 31                  26 27 28 29 30 31         23 24 25 26 27 28 29\n",
      "                                                    30\n",
      "\n",
      "      October                   November                  December\n",
      "Mo Tu We Th Fr Sa Su      Mo Tu We Th Fr Sa Su      Mo Tu We Th Fr Sa Su\n",
      "    1  2  3  4  5  6                   1  2  3                         1\n",
      " 7  8  9 10 11 12 13       4  5  6  7  8  9 10       2  3  4  5  6  7  8\n",
      "14 15 16 17 18 19 20      11 12 13 14 15 16 17       9 10 11 12 13 14 15\n",
      "21 22 23 24 25 26 27      18 19 20 21 22 23 24      16 17 18 19 20 21 22\n",
      "28 29 30 31               25 26 27 28 29 30         23 24 25 26 27 28 29\n",
      "                                                    30 31\n",
      "\n",
      "Is 2024 a leap year? True\n"
     ]
    }
   ],
   "source": [
    "import calendar\n",
    "\n",
    "# Print the calendar for June 2024\n",
    "year = 2024\n",
    "month = 6\n",
    "print(calendar.month(year, month))\n",
    "print(calendar.calendar(year))\n",
    "is_leap = calendar.isleap(year)\n",
    "print(f\"Is {year} a leap year? {is_leap}\")"
   ]
  },
  {
   "cell_type": "code",
   "execution_count": 39,
   "metadata": {},
   "outputs": [
    {
     "name": "stdout",
     "output_type": "stream",
     "text": [
      "Number of leap years between 2000 and 2024: 6\n"
     ]
    }
   ],
   "source": [
    "import calendar\n",
    "\n",
    "# Get the number of leap years between 2000 and 2024\n",
    "start_year = 2000\n",
    "end_year = 2024\n",
    "leap_years = calendar.leapdays(start_year, end_year)\n",
    "print(f\"Number of leap years between {start_year} and {end_year}: {leap_years}\")\n"
   ]
  },
  {
   "cell_type": "code",
   "execution_count": 40,
   "metadata": {},
   "outputs": [
    {
     "name": "stdout",
     "output_type": "stream",
     "text": [
      "June 23, 2024 is a Sunday\n"
     ]
    }
   ],
   "source": [
    "import calendar\n",
    "\n",
    "# Get the day of the week for June 23, 2024\n",
    "year = 2024\n",
    "month = 6\n",
    "day = 23\n",
    "day_of_week = calendar.weekday(year, month, day)\n",
    "days = [\"Monday\", \"Tuesday\", \"Wednesday\", \"Thursday\", \"Friday\", \"Saturday\", \"Sunday\"]\n",
    "print(f\"June 23, 2024 is a {days[day_of_week]}\")\n"
   ]
  },
  {
   "cell_type": "code",
   "execution_count": 41,
   "metadata": {},
   "outputs": [
    {
     "name": "stdout",
     "output_type": "stream",
     "text": [
      "                                  2024\n",
      "\n",
      "      January                   February                   March\n",
      "Mo Tu We Th Fr Sa Su      Mo Tu We Th Fr Sa Su      Mo Tu We Th Fr Sa Su\n",
      " 1  2  3  4  5  6  7                1  2  3  4                   1  2  3\n",
      " 8  9 10 11 12 13 14       5  6  7  8  9 10 11       4  5  6  7  8  9 10\n",
      "15 16 17 18 19 20 21      12 13 14 15 16 17 18      11 12 13 14 15 16 17\n",
      "22 23 24 25 26 27 28      19 20 21 22 23 24 25      18 19 20 21 22 23 24\n",
      "29 30 31                  26 27 28 29               25 26 27 28 29 30 31\n",
      "\n",
      "       April                      May                       June\n",
      "Mo Tu We Th Fr Sa Su      Mo Tu We Th Fr Sa Su      Mo Tu We Th Fr Sa Su\n",
      " 1  2  3  4  5  6  7             1  2  3  4  5                      1  2\n",
      " 8  9 10 11 12 13 14       6  7  8  9 10 11 12       3  4  5  6  7  8  9\n",
      "15 16 17 18 19 20 21      13 14 15 16 17 18 19      10 11 12 13 14 15 16\n",
      "22 23 24 25 26 27 28      20 21 22 23 24 25 26      17 18 19 20 21 22 23\n",
      "29 30                     27 28 29 30 31            24 25 26 27 28 29 30\n",
      "\n",
      "        July                     August                  September\n",
      "Mo Tu We Th Fr Sa Su      Mo Tu We Th Fr Sa Su      Mo Tu We Th Fr Sa Su\n",
      " 1  2  3  4  5  6  7                1  2  3  4                         1\n",
      " 8  9 10 11 12 13 14       5  6  7  8  9 10 11       2  3  4  5  6  7  8\n",
      "15 16 17 18 19 20 21      12 13 14 15 16 17 18       9 10 11 12 13 14 15\n",
      "22 23 24 25 26 27 28      19 20 21 22 23 24 25      16 17 18 19 20 21 22\n",
      "29 30 31                  26 27 28 29 30 31         23 24 25 26 27 28 29\n",
      "                                                    30\n",
      "\n",
      "      October                   November                  December\n",
      "Mo Tu We Th Fr Sa Su      Mo Tu We Th Fr Sa Su      Mo Tu We Th Fr Sa Su\n",
      "    1  2  3  4  5  6                   1  2  3                         1\n",
      " 7  8  9 10 11 12 13       4  5  6  7  8  9 10       2  3  4  5  6  7  8\n",
      "14 15 16 17 18 19 20      11 12 13 14 15 16 17       9 10 11 12 13 14 15\n",
      "21 22 23 24 25 26 27      18 19 20 21 22 23 24      16 17 18 19 20 21 22\n",
      "28 29 30 31               25 26 27 28 29 30         23 24 25 26 27 28 29\n",
      "                                                    30 31\n",
      "\n"
     ]
    }
   ],
   "source": [
    "import calendar\n",
    "\n",
    "# Create a text calendar for the year 2024 with Monday as the first day of the week\n",
    "year = 2024\n",
    "text_calendar = calendar.TextCalendar(firstweekday=0)\n",
    "print(text_calendar.formatyear(year))\n"
   ]
  },
  {
   "cell_type": "code",
   "execution_count": 42,
   "metadata": {},
   "outputs": [
    {
     "name": "stdout",
     "output_type": "stream",
     "text": [
      "<table border=\"0\" cellpadding=\"0\" cellspacing=\"0\" class=\"month\">\n",
      "<tr><th colspan=\"7\" class=\"month\">June 2024</th></tr>\n",
      "<tr><th class=\"mon\">Mon</th><th class=\"tue\">Tue</th><th class=\"wed\">Wed</th><th class=\"thu\">Thu</th><th class=\"fri\">Fri</th><th class=\"sat\">Sat</th><th class=\"sun\">Sun</th></tr>\n",
      "<tr><td class=\"noday\">&nbsp;</td><td class=\"noday\">&nbsp;</td><td class=\"noday\">&nbsp;</td><td class=\"noday\">&nbsp;</td><td class=\"noday\">&nbsp;</td><td class=\"sat\">1</td><td class=\"sun\">2</td></tr>\n",
      "<tr><td class=\"mon\">3</td><td class=\"tue\">4</td><td class=\"wed\">5</td><td class=\"thu\">6</td><td class=\"fri\">7</td><td class=\"sat\">8</td><td class=\"sun\">9</td></tr>\n",
      "<tr><td class=\"mon\">10</td><td class=\"tue\">11</td><td class=\"wed\">12</td><td class=\"thu\">13</td><td class=\"fri\">14</td><td class=\"sat\">15</td><td class=\"sun\">16</td></tr>\n",
      "<tr><td class=\"mon\">17</td><td class=\"tue\">18</td><td class=\"wed\">19</td><td class=\"thu\">20</td><td class=\"fri\">21</td><td class=\"sat\">22</td><td class=\"sun\">23</td></tr>\n",
      "<tr><td class=\"mon\">24</td><td class=\"tue\">25</td><td class=\"wed\">26</td><td class=\"thu\">27</td><td class=\"fri\">28</td><td class=\"sat\">29</td><td class=\"sun\">30</td></tr>\n",
      "</table>\n",
      "\n"
     ]
    }
   ],
   "source": [
    "import calendar\n",
    "\n",
    "# Create an HTML calendar for June 2024\n",
    "year = 2024\n",
    "month = 6\n",
    "html_calendar = calendar.HTMLCalendar(firstweekday=0)\n",
    "print(html_calendar.formatmonth(year, month))\n"
   ]
  },
  {
   "cell_type": "markdown",
   "metadata": {},
   "source": [
    "collections"
   ]
  },
  {
   "cell_type": "code",
   "execution_count": 43,
   "metadata": {},
   "outputs": [
    {
     "name": "stdout",
     "output_type": "stream",
     "text": [
      "Point(x=11, y=22)\n",
      "11 22\n"
     ]
    }
   ],
   "source": [
    "from collections import namedtuple\n",
    "\n",
    "# Create a namedtuple type called 'Point'\n",
    "Point = namedtuple('Point', ['x', 'y'])\n",
    "\n",
    "# Create an instance of Point\n",
    "p = Point(11, 22)\n",
    "\n",
    "print(p)           # Output: Point(x=11, y=22)\n",
    "print(p.x, p.y)    # Output: 11 22\n"
   ]
  },
  {
   "cell_type": "code",
   "execution_count": 44,
   "metadata": {},
   "outputs": [
    {
     "name": "stdout",
     "output_type": "stream",
     "text": [
      "deque([1, 2, 3, 4, 5, 6])\n",
      "deque([0, 1, 2, 3, 4, 5, 6])\n",
      "deque([0, 1, 2, 3, 4, 5])\n",
      "deque([1, 2, 3, 4, 5])\n"
     ]
    }
   ],
   "source": [
    "from collections import deque\n",
    "\n",
    "# Create a deque\n",
    "d = deque([1, 2, 3, 4, 5])\n",
    "\n",
    "# Append elements to the right end\n",
    "d.append(6)\n",
    "print(d)  # Output: deque([1, 2, 3, 4, 5, 6])\n",
    "\n",
    "# Append elements to the left end\n",
    "d.appendleft(0)\n",
    "print(d)  # Output: deque([0, 1, 2, 3, 4, 5, 6])\n",
    "\n",
    "# Pop elements from the right end\n",
    "d.pop()\n",
    "print(d)  # Output: deque([0, 1, 2, 3, 4, 5])\n",
    "\n",
    "# Pop elements from the left end\n",
    "d.popleft()\n",
    "print(d)  # Output: deque([1, 2, 3, 4, 5])\n"
   ]
  },
  {
   "cell_type": "code",
   "execution_count": 1,
   "metadata": {},
   "outputs": [
    {
     "name": "stdout",
     "output_type": "stream",
     "text": [
      "Counter({'blue': 3, 'red': 2, 'green': 1})\n",
      "3\n",
      "2\n",
      "Counter({'blue': 4, 'green': 3, 'red': 2})\n"
     ]
    }
   ],
   "source": [
    "from collections import Counter\n",
    "\n",
    "# Create a Counter from a list\n",
    "cnt = Counter(['red', 'blue', 'red', 'green', 'blue', 'blue'])\n",
    "\n",
    "print(cnt)  # Output: Counter({'blue': 3, 'red': 2, 'green': 1})\n",
    "\n",
    "# Access counts\n",
    "print(cnt['blue'])  # Output: 3\n",
    "print(cnt['red'])   # Output: 2\n",
    "\n",
    "# Update counts\n",
    "cnt.update(['blue', 'green', 'green'])\n",
    "print(cnt)  # Output: Counter({'blue': 4, 'red': 2, 'green': 3})\n"
   ]
  },
  {
   "cell_type": "code",
   "execution_count": 2,
   "metadata": {},
   "outputs": [
    {
     "name": "stdout",
     "output_type": "stream",
     "text": [
      "defaultdict(<class 'int'>, {'a': 1, 'b': 5})\n",
      "0\n",
      "defaultdict(<class 'int'>, {'a': 1, 'b': 5, 'c': 0})\n"
     ]
    }
   ],
   "source": [
    "from collections import defaultdict\n",
    "\n",
    "# Create a defaultdict with a default factory of int\n",
    "dd = defaultdict(int)\n",
    "\n",
    "# Access or assign values\n",
    "dd['a'] += 1\n",
    "dd['b'] = 5\n",
    "print(dd)  # Output: defaultdict(<class 'int'>, {'a': 1, 'b': 5})\n",
    "\n",
    "# Default factory provides default values for new keys\n",
    "print(dd['c'])  # Output: 0 (default value)\n",
    "print(dd)       # Output: defaultdict(<class 'int'>, {'a': 1, 'b': 5, 'c': 0})\n"
   ]
  },
  {
   "cell_type": "code",
   "execution_count": 3,
   "metadata": {},
   "outputs": [
    {
     "name": "stdout",
     "output_type": "stream",
     "text": [
      "OrderedDict([('first', 1), ('second', 2), ('third', 3)])\n",
      "first 1\n",
      "second 2\n",
      "third 3\n"
     ]
    }
   ],
   "source": [
    "from collections import OrderedDict\n",
    "\n",
    "# Create an OrderedDict\n",
    "od = OrderedDict()\n",
    "\n",
    "# Insert items\n",
    "od['first'] = 1\n",
    "od['second'] = 2\n",
    "od['third'] = 3\n",
    "\n",
    "print(od)  # Output: OrderedDict([('first', 1), ('second', 2), ('third', 3)])\n",
    "\n",
    "# Iterate over OrderedDict\n",
    "for key, value in od.items():\n",
    "    print(key, value)\n",
    "# Output:\n",
    "# first 1\n",
    "# second 2\n",
    "# third 3\n"
   ]
  },
  {
   "cell_type": "code",
   "execution_count": 4,
   "metadata": {},
   "outputs": [
    {
     "name": "stdout",
     "output_type": "stream",
     "text": [
      "ChainMap({'a': 1, 'b': 2}, {'b': 3, 'c': 4})\n",
      "1\n",
      "2\n",
      "4\n"
     ]
    }
   ],
   "source": [
    "from collections import ChainMap\n",
    "\n",
    "# Create two dictionaries\n",
    "dict1 = {'a': 1, 'b': 2}\n",
    "dict2 = {'b': 3, 'c': 4}\n",
    "\n",
    "# Create a ChainMap\n",
    "chain = ChainMap(dict1, dict2)\n",
    "\n",
    "print(chain)       # Output: ChainMap({'a': 1, 'b': 2}, {'b': 3, 'c': 4})\n",
    "print(chain['a'])  # Output: 1 (from dict1)\n",
    "print(chain['b'])  # Output: 2 (from dict1, because dict1 comes first)\n",
    "print(chain['c'])  # Output: 4 (from dict2)\n"
   ]
  },
  {
   "cell_type": "markdown",
   "metadata": {},
   "source": [
    "heapq"
   ]
  },
  {
   "cell_type": "code",
   "execution_count": 5,
   "metadata": {},
   "outputs": [
    {
     "name": "stdout",
     "output_type": "stream",
     "text": [
      "Heap elements: [1, 3, 7, 4]\n"
     ]
    }
   ],
   "source": [
    "import heapq\n",
    "\n",
    "# Create an empty heap\n",
    "heap = []\n",
    "\n",
    "# Insert elements into the heap\n",
    "heapq.heappush(heap, 4)\n",
    "heapq.heappush(heap, 1)\n",
    "heapq.heappush(heap, 7)\n",
    "heapq.heappush(heap, 3)\n",
    "\n",
    "print(\"Heap elements:\", heap)  # Output: [1, 3, 7, 4]\n"
   ]
  },
  {
   "cell_type": "code",
   "execution_count": 8,
   "metadata": {},
   "outputs": [
    {
     "name": "stdout",
     "output_type": "stream",
     "text": [
      "Initial heap: [5, 8, 2, 1, 9]\n",
      "Sorted elements: [5, 2, 1, 8, 9]\n",
      "Heapified data: [1, 3, 2, 8, 6]\n"
     ]
    }
   ],
   "source": [
    "import heapq\n",
    "\n",
    "# Create a heap\n",
    "heap = [5, 8, 2, 1, 9]\n",
    "print(\"Initial heap:\", heap)\n",
    "\n",
    "# Pop elements from the heap (in ascending order)\n",
    "sorted_elements = []\n",
    "while heap:\n",
    "    sorted_elements.append(heapq.heappop(heap))\n",
    "\n",
    "print(\"Sorted elements:\", sorted_elements)  # Output: [1, 2, 5, 8, 9]\n",
    "\n",
    "\n",
    "# Convert a list into a heap\n",
    "data = [3, 8, 2, 1, 6]\n",
    "heapq.heapify(data)\n",
    "print(\"Heapified data:\", data)  # Output: [1, 3, 2, 8, 6]\n",
    "\n"
   ]
  },
  {
   "cell_type": "code",
   "execution_count": 9,
   "metadata": {},
   "outputs": [
    {
     "name": "stdout",
     "output_type": "stream",
     "text": [
      "3 largest elements: [12, 9, 7]\n"
     ]
    }
   ],
   "source": [
    "import heapq\n",
    "\n",
    "def find_k_largest(nums, k):\n",
    "    min_heap = nums[:k]\n",
    "    heapq.heapify(min_heap)\n",
    "\n",
    "    for num in nums[k:]:\n",
    "        if num > min_heap[0]:\n",
    "            heapq.heappop(min_heap)\n",
    "            heapq.heappush(min_heap, num)\n",
    "\n",
    "    return sorted(min_heap, reverse=True)\n",
    "\n",
    "nums = [5, 12, 3, 7, 9, 1]\n",
    "k = 3\n",
    "print(f\"{k} largest elements:\", find_k_largest(nums, k))  # Output: [9, 12, 7]\n"
   ]
  },
  {
   "cell_type": "markdown",
   "metadata": {},
   "source": [
    "bisect"
   ]
  },
  {
   "cell_type": "code",
   "execution_count": 10,
   "metadata": {},
   "outputs": [
    {
     "name": "stdout",
     "output_type": "stream",
     "text": [
      "[1, 3, 4, 5, 7, 9]\n",
      "[1, 2, 3, 4, 5, 7, 9]\n"
     ]
    }
   ],
   "source": [
    "import bisect\n",
    "\n",
    "# Initialize a sorted list\n",
    "my_list = [1, 3, 5, 7, 9]\n",
    "\n",
    "# Insert an element into the list maintaining sorted order\n",
    "bisect.insort(my_list, 4)\n",
    "print(my_list)  # Output: [1, 3, 4, 5, 7, 9]\n",
    "\n",
    "# Insert another element\n",
    "bisect.insort(my_list, 2)\n",
    "print(my_list)  # Output: [1, 2, 3, 4, 5, 7, 9]\n"
   ]
  },
  {
   "cell_type": "code",
   "execution_count": 11,
   "metadata": {},
   "outputs": [
    {
     "name": "stdout",
     "output_type": "stream",
     "text": [
      "2\n",
      "[10, 20, 25, 30, 40, 50]\n"
     ]
    }
   ],
   "source": [
    "import bisect\n",
    "\n",
    "# Example list\n",
    "my_list = [10, 20, 30, 40, 50]\n",
    "\n",
    "# Finding the insertion point for a value\n",
    "position = bisect.bisect(my_list, 25)\n",
    "print(position)  # Output: 2 (index where 25 should be inserted to maintain order)\n",
    "\n",
    "# Inserting a value at that position\n",
    "bisect.insort(my_list, 25)\n",
    "print(my_list)  # Output: [10, 20, 25, 30, 40, 50]\n"
   ]
  },
  {
   "cell_type": "code",
   "execution_count": 12,
   "metadata": {},
   "outputs": [
    {
     "name": "stdout",
     "output_type": "stream",
     "text": [
      "Score 55: Grade should be inserted at position 0\n",
      "Score 65: Grade should be inserted at position 1\n",
      "Score 75: Grade should be inserted at position 2\n",
      "Score 85: Grade should be inserted at position 3\n",
      "Score 95: Grade should be inserted at position 4\n"
     ]
    }
   ],
   "source": [
    "import bisect\n",
    "\n",
    "# Example sorted list\n",
    "grades = [60, 70, 80, 90, 100]\n",
    "scores = [55, 65, 75, 85, 95]\n",
    "\n",
    "# Finding the insertion point to maintain sorted order (right side)\n",
    "for score in scores:\n",
    "    position = bisect.bisect_right(grades, score)\n",
    "    print(f\"Score {score}: Grade should be inserted at position {position}\")\n",
    "\n",
    "# Output:\n",
    "# Score 55: Grade should be inserted at position 0\n",
    "# Score 65: Grade should be inserted at position 2\n",
    "# Score 75: Grade should be inserted at position 3\n",
    "# Score 85: Grade should be inserted at position 4\n",
    "# Score 95: Grade should be inserted at position 5\n"
   ]
  },
  {
   "cell_type": "markdown",
   "metadata": {},
   "source": [
    "array"
   ]
  },
  {
   "cell_type": "code",
   "execution_count": 13,
   "metadata": {},
   "outputs": [
    {
     "name": "stdout",
     "output_type": "stream",
     "text": [
      "array('i', [1, 2, 3, 4, 5])\n",
      "array('d', [3.14, 2.718, 1.414])\n",
      "10\n",
      "40\n",
      "10\n",
      "20\n",
      "30\n",
      "40\n",
      "50\n"
     ]
    }
   ],
   "source": [
    "import array\n",
    "\n",
    "# Create an array of integers (signed int)\n",
    "arr_int = array.array('i', [1, 2, 3, 4, 5])\n",
    "print(arr_int)  # Output: array('i', [1, 2, 3, 4, 5])\n",
    "\n",
    "# Create an array of floating-point numbers (double)\n",
    "arr_float = array.array('d', [3.14, 2.718, 1.414])\n",
    "print(arr_float)  # Output: array('d', [3.14, 2.718, 1.414])\n",
    "arr = array.array('i', [10, 20, 30, 40, 50])\n",
    "\n",
    "# Accessing elements using index\n",
    "print(arr[0])  # Output: 10\n",
    "print(arr[3])  # Output: 40\n",
    "\n",
    "# Iterating over elements\n",
    "for elem in arr:\n",
    "    print(elem)"
   ]
  },
  {
   "cell_type": "code",
   "execution_count": 14,
   "metadata": {},
   "outputs": [
    {
     "name": "stdout",
     "output_type": "stream",
     "text": [
      "array('i', [1, 2, 3, 4])\n",
      "array('i', [1, 2, 3, 4, 5, 6, 7])\n",
      "array('i', [1, 2, 4, 5])\n",
      "array('i', [1, 4, 5])\n"
     ]
    }
   ],
   "source": [
    "import array\n",
    "\n",
    "arr = array.array('i', [1, 2, 3])\n",
    "\n",
    "# Append new element\n",
    "arr.append(4)\n",
    "print(arr)  # Output: array('i', [1, 2, 3, 4])\n",
    "\n",
    "# Extend array with another array\n",
    "arr2 = array.array('i', [5, 6, 7])\n",
    "arr.extend(arr2)\n",
    "print(arr)  # Output: array('i', [1, 2, 3, 4, 5, 6, 7])\n",
    "arr = array.array('i', [1, 2, 3, 4, 5])\n",
    "\n",
    "# Remove element by value\n",
    "arr.remove(3)\n",
    "print(arr)  # Output: array('i', [1, 2, 4, 5])\n",
    "\n",
    "# Remove element by index\n",
    "del arr[1]\n",
    "print(arr)  # Output: array('i', [1, 4, 5])"
   ]
  },
  {
   "cell_type": "markdown",
   "metadata": {},
   "source": [
    "weakref - skipped"
   ]
  },
  {
   "cell_type": "markdown",
   "metadata": {},
   "source": [
    "types"
   ]
  },
  {
   "cell_type": "code",
   "execution_count": 15,
   "metadata": {},
   "outputs": [
    {
     "name": "stdout",
     "output_type": "stream",
     "text": [
      "Hello, Alice!\n",
      "Goodbye, Alice!\n"
     ]
    }
   ],
   "source": [
    "import types\n",
    "\n",
    "# Define methods as plain functions\n",
    "def greet(self):\n",
    "    print(f\"Hello, {self.name}!\")\n",
    "\n",
    "def farewell(self):\n",
    "    print(f\"Goodbye, {self.name}!\")\n",
    "\n",
    "# Create a new type using types.new_class\n",
    "MyClass = types.new_class('MyClass', (), {}, lambda ns: ns.update({\n",
    "    'greet': greet,\n",
    "    'farewell': farewell,\n",
    "}))\n",
    "\n",
    "# Instantiate the class\n",
    "obj = MyClass()\n",
    "obj.name = \"Alice\"\n",
    "\n",
    "# Call methods\n",
    "obj.greet()    # Output: Hello, Alice!\n",
    "obj.farewell() # Output: Goodbye, Alice!\n"
   ]
  },
  {
   "cell_type": "code",
   "execution_count": 16,
   "metadata": {},
   "outputs": [
    {
     "name": "stdout",
     "output_type": "stream",
     "text": [
      "7\n"
     ]
    }
   ],
   "source": [
    "import types\n",
    "\n",
    "# Define a function dynamically\n",
    "def add(a, b):\n",
    "    return a + b\n",
    "\n",
    "# Create a function type using types.FunctionType\n",
    "add_function = types.FunctionType(\n",
    "    add.__code__, globals(), \"add\"\n",
    ")\n",
    "\n",
    "# Call the dynamically created function\n",
    "result = add_function(3, 4)\n",
    "print(result)  # Output: 7\n"
   ]
  },
  {
   "cell_type": "markdown",
   "metadata": {},
   "source": [
    "copy "
   ]
  },
  {
   "cell_type": "code",
   "execution_count": 17,
   "metadata": {},
   "outputs": [
    {
     "name": "stdout",
     "output_type": "stream",
     "text": [
      "Original list: [1, 2, [300, 4]]\n",
      "Shallow copied list: [100, 2, [300, 4]]\n"
     ]
    }
   ],
   "source": [
    "import copy\n",
    "\n",
    "# Original list\n",
    "original_list = [1, 2, [3, 4]]\n",
    "\n",
    "# Shallow copy\n",
    "shallow_copied_list = copy.copy(original_list)\n",
    "\n",
    "# Modify the shallow copy\n",
    "shallow_copied_list[0] = 100\n",
    "shallow_copied_list[2][0] = 300\n",
    "\n",
    "# Print both lists\n",
    "print(\"Original list:\", original_list)  # Output: [1, 2, [300, 4]]\n",
    "print(\"Shallow copied list:\", shallow_copied_list)  # Output: [100, 2, [300, 4]]\n"
   ]
  },
  {
   "cell_type": "code",
   "execution_count": 18,
   "metadata": {},
   "outputs": [
    {
     "name": "stdout",
     "output_type": "stream",
     "text": [
      "Original list: [1, 2, [3, 4]]\n",
      "Deep copied list: [100, 2, [300, 4]]\n"
     ]
    }
   ],
   "source": [
    "import copy\n",
    "\n",
    "# Original list\n",
    "original_list = [1, 2, [3, 4]]\n",
    "\n",
    "# Deep copy\n",
    "deep_copied_list = copy.deepcopy(original_list)\n",
    "\n",
    "# Modify the deep copy\n",
    "deep_copied_list[0] = 100\n",
    "deep_copied_list[2][0] = 300\n",
    "\n",
    "# Print both lists\n",
    "print(\"Original list:\", original_list)  # Output: [1, 2, [3, 4]]\n",
    "print(\"Deep copied list:\", deep_copied_list)  # Output: [100, 2, [300, 4]]\n"
   ]
  },
  {
   "cell_type": "code",
   "execution_count": 19,
   "metadata": {},
   "outputs": [
    {
     "name": "stdout",
     "output_type": "stream",
     "text": [
      "Original object: 10\n",
      "Shallow copied object: 20\n"
     ]
    }
   ],
   "source": [
    "import copy\n",
    "\n",
    "# Custom class\n",
    "class MyClass:\n",
    "    def __init__(self, value):\n",
    "        self.value = value\n",
    "\n",
    "# Original object\n",
    "original_object = MyClass(10)\n",
    "\n",
    "# Shallow copy\n",
    "shallow_copied_object = copy.copy(original_object)\n",
    "\n",
    "# Modify the shallow copy\n",
    "shallow_copied_object.value = 20\n",
    "\n",
    "# Print both objects\n",
    "print(\"Original object:\", original_object.value)  # Output: 10\n",
    "print(\"Shallow copied object:\", shallow_copied_object.value)  # Output: 20\n"
   ]
  },
  {
   "cell_type": "markdown",
   "metadata": {},
   "source": [
    "pprint "
   ]
  },
  {
   "cell_type": "code",
   "execution_count": 20,
   "metadata": {},
   "outputs": [
    {
     "name": "stdout",
     "output_type": "stream",
     "text": [
      "{'key1': [1, 2, 3],\n",
      " 'key2': {'nested_dict': {'subkey1': 'subvalue1', 'subkey2': 'subvalue2'},\n",
      "          'nested_key': 'value',\n",
      "          'nested_list': [4, 5, 6]}}\n"
     ]
    }
   ],
   "source": [
    "import pprint\n",
    "\n",
    "data = {\n",
    "    'key1': [1, 2, 3],\n",
    "    'key2': {\n",
    "        'nested_key': 'value',\n",
    "        'nested_list': [4, 5, 6],\n",
    "        'nested_dict': {\n",
    "            'subkey1': 'subvalue1',\n",
    "            'subkey2': 'subvalue2'\n",
    "        }\n",
    "    }\n",
    "}\n",
    "\n",
    "pprint.pprint(data)\n"
   ]
  },
  {
   "cell_type": "markdown",
   "metadata": {},
   "source": [
    "reprlib - skipped"
   ]
  },
  {
   "cell_type": "markdown",
   "metadata": {},
   "source": [
    "enum"
   ]
  },
  {
   "cell_type": "markdown",
   "metadata": {},
   "source": [
    "graphlib"
   ]
  },
  {
   "cell_type": "code",
   "execution_count": 21,
   "metadata": {},
   "outputs": [
    {
     "name": "stdout",
     "output_type": "stream",
     "text": [
      "Topological order: ['d', 'b', 'c', 'a']\n"
     ]
    }
   ],
   "source": [
    "import graphlib\n",
    "\n",
    "# Define dependencies as a dictionary\n",
    "dependencies = {\n",
    "    'a': {'b', 'c'},\n",
    "    'b': {'d'},\n",
    "    'c': {'d'},\n",
    "    'd': {}\n",
    "}\n",
    "\n",
    "# Create a graph and perform topological sorting\n",
    "graph = graphlib.TopologicalSorter(dependencies)\n",
    "sorted_nodes = list(graph.static_order())\n",
    "\n",
    "print(\"Topological order:\", sorted_nodes)\n"
   ]
  }
 ],
 "metadata": {
  "kernelspec": {
   "display_name": "Python 3",
   "language": "python",
   "name": "python3"
  },
  "language_info": {
   "codemirror_mode": {
    "name": "ipython",
    "version": 3
   },
   "file_extension": ".py",
   "mimetype": "text/x-python",
   "name": "python",
   "nbconvert_exporter": "python",
   "pygments_lexer": "ipython3",
   "version": "3.9.13"
  }
 },
 "nbformat": 4,
 "nbformat_minor": 2
}
