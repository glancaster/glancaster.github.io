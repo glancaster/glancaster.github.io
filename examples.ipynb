{
 "cells": [
  {
   "cell_type": "markdown",
   "metadata": {},
   "source": [
    "string library"
   ]
  },
  {
   "cell_type": "code",
   "execution_count": 13,
   "metadata": {},
   "outputs": [
    {
     "name": "stdout",
     "output_type": "stream",
     "text": [
      "It is long and pointy\n",
      "That dog is thick\n"
     ]
    }
   ],
   "source": [
    "from string import Template\n",
    "message = Template('It is $desc1 and $desc2')\n",
    "print(message.substitute(desc1=\"long\", desc2 = \"pointy\"))\n",
    "tags = {'what':'thick'}\n",
    "print(Template(\"That dog is $what\").substitute(tags))"
   ]
  },
  {
   "cell_type": "markdown",
   "metadata": {},
   "source": [
    "re library"
   ]
  },
  {
   "cell_type": "code",
   "execution_count": 18,
   "metadata": {},
   "outputs": [
    {
     "name": "stdout",
     "output_type": "stream",
     "text": [
      "Found: Python\n",
      "Found: ['Python', 'Python']\n"
     ]
    }
   ],
   "source": [
    "import re\n",
    "\n",
    "# Check if the string contains \"Python\"\n",
    "text = \"I love programming in Python. Python can do so many things.\"\n",
    "match = re.search(r\"Python\", text)\n",
    "if match:\n",
    "    print(\"Found:\", match.group()) \n",
    "\n",
    "matches = re.findall(r\"Python\", text)\n",
    "print(\"Found:\", matches)"
   ]
  },
  {
   "cell_type": "code",
   "execution_count": 20,
   "metadata": {},
   "outputs": [
    {
     "name": "stdout",
     "output_type": "stream",
     "text": [
      "['Python', 'is', 'great']\n",
      "C is great\n"
     ]
    }
   ],
   "source": [
    "import re\n",
    "\n",
    "# Split a string by any whitespace\n",
    "text = \"Python is great\"\n",
    "split_text = re.split(r\"\\s+\", text)\n",
    "print(split_text)\n",
    "\n",
    "new_text = re.sub(r\"Python\", \"C\", text)\n",
    "print(new_text)"
   ]
  },
  {
   "cell_type": "code",
   "execution_count": 21,
   "metadata": {},
   "outputs": [
    {
     "name": "stdout",
     "output_type": "stream",
     "text": [
      "['support@example.com', 'sales@example.com']\n"
     ]
    }
   ],
   "source": [
    "import re\n",
    "\n",
    "# Extract email addresses from text\n",
    "text = \"Please contact us at support@example.com or sales@example.com.\"\n",
    "emails = re.findall(r\"[a-zA-Z0-9._%+-]+@[a-zA-Z0-9.-]+\\.[a-zA-Z]{2,}\", text)\n",
    "print(emails)  "
   ]
  },
  {
   "cell_type": "code",
   "execution_count": null,
   "metadata": {},
   "outputs": [],
   "source": [
    "import re\n",
    "\n",
    "# Validate phone number format (e.g., (123) 456-7890)\n",
    "phone_number = \"(123) 456-7890\"\n",
    "if re.match(r\"\\(\\d{3}\\) \\d{3}-\\d{4}\", phone_number):\n",
    "    print(\"Valid phone number format\")  # Output: Valid phone number format\n",
    "else:\n",
    "    print(\"Invalid phone number format\")"
   ]
  },
  {
   "cell_type": "markdown",
   "metadata": {},
   "source": [
    "difflib library"
   ]
  },
  {
   "cell_type": "code",
   "execution_count": 25,
   "metadata": {},
   "outputs": [
    {
     "name": "stdout",
     "output_type": "stream",
     "text": [
      "Similarity: 0.67\n"
     ]
    }
   ],
   "source": [
    "import difflib\n",
    "\n",
    "str1 = \"apple\"\n",
    "str2 = \"applesauce\"\n",
    "\n",
    "# Get a ratio of similarity\n",
    "similarity = difflib.SequenceMatcher(None, str1, str2).ratio()\n",
    "print(f\"Similarity: {similarity:.2f}\")\n"
   ]
  },
  {
   "cell_type": "code",
   "execution_count": 28,
   "metadata": {},
   "outputs": [
    {
     "name": "stdout",
     "output_type": "stream",
     "text": [
      "  The\n",
      "  quick\n",
      "  brown\n",
      "- fox\n",
      "+ dog\n"
     ]
    }
   ],
   "source": [
    "import difflib\n",
    "\n",
    "str1 = \"The quick brown fox\"\n",
    "str2 = \"The quick brown dog\"\n",
    "\n",
    "d = difflib.Differ()\n",
    "diff = list(d.compare(str1.split(), str2.split()))\n",
    "\n",
    "print(\"\\n\".join(diff))\n",
    "\n",
    "\n"
   ]
  },
  {
   "cell_type": "code",
   "execution_count": 29,
   "metadata": {},
   "outputs": [
    {
     "name": "stdout",
     "output_type": "stream",
     "text": [
      "['apple', 'ape']\n"
     ]
    }
   ],
   "source": [
    "import difflib\n",
    "\n",
    "word = \"appel\"\n",
    "possibilities = [\"ape\", \"apple\", \"peach\", \"puppy\"]\n",
    "\n",
    "matches = difflib.get_close_matches(word, possibilities)\n",
    "print(matches)\n"
   ]
  }
 ],
 "metadata": {
  "kernelspec": {
   "display_name": "Python 3",
   "language": "python",
   "name": "python3"
  },
  "language_info": {
   "codemirror_mode": {
    "name": "ipython",
    "version": 3
   },
   "file_extension": ".py",
   "mimetype": "text/x-python",
   "name": "python",
   "nbconvert_exporter": "python",
   "pygments_lexer": "ipython3",
   "version": "3.9.13"
  }
 },
 "nbformat": 4,
 "nbformat_minor": 2
}
